{
 "cells": [
  {
   "cell_type": "markdown",
   "metadata": {},
   "source": [
    "## Why I do this\n",
    "Price is always the thing that people pay most interest in, but they are often confused by difference in prices. It seems like most people do not know why certain neibours are much more expensive than others.    \n",
    "So, I try to identify why certain places are more expensive, and hoping that data can give us some reasonable answers."
   ]
  },
  {
   "cell_type": "markdown",
   "metadata": {},
   "source": [
    "## Objective\n",
    "1. Identify different block in Toronto\n",
    "2. Calculate the average house price of different block\n",
    "3. Find out the parameters that can affect the house price"
   ]
  },
  {
   "cell_type": "markdown",
   "metadata": {},
   "source": [
    "## Data needed\n",
    "1. Basic info of different blocks in Toronto, including name, location and so on\n",
    "2. House price for each block\n",
    "3. Relevent indicators like grocery stores, restaurants, schools and so on"
   ]
  }
 ],
 "metadata": {
  "kernelspec": {
   "display_name": "Python 3",
   "language": "python",
   "name": "python3"
  },
  "language_info": {
   "codemirror_mode": {
    "name": "ipython",
    "version": 3
   },
   "file_extension": ".py",
   "mimetype": "text/x-python",
   "name": "python",
   "nbconvert_exporter": "python",
   "pygments_lexer": "ipython3",
   "version": "3.7.4"
  }
 },
 "nbformat": 4,
 "nbformat_minor": 2
}
